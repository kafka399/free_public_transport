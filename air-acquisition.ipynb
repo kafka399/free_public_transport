{
 "cells": [
  {
   "cell_type": "code",
   "execution_count": 97,
   "id": "8f147a57",
   "metadata": {
    "scrolled": true
   },
   "outputs": [],
   "source": [
    "#!pip install selenium\n",
    "from selenium import webdriver\n",
    "from selenium.webdriver.common.by import By\n",
    "import time\n",
    "import requests\n",
    "import json\n",
    "import pandas as pd"
   ]
  },
  {
   "cell_type": "code",
   "execution_count": 49,
   "id": "724ce579",
   "metadata": {},
   "outputs": [
    {
     "name": "stderr",
     "output_type": "stream",
     "text": [
      "/var/folders/dx/gx55fj5d24g06sqg2dykf1mh0000gr/T/ipykernel_3268/1414545377.py:1: DeprecationWarning: executable_path has been deprecated, please pass in a Service object\n",
      "  driver = webdriver.Firefox(executable_path='./geckodriver')\n"
     ]
    }
   ],
   "source": [
    "driver = webdriver.Firefox(executable_path='./geckodriver')"
   ]
  },
  {
   "cell_type": "code",
   "execution_count": 86,
   "id": "2b8fd985",
   "metadata": {},
   "outputs": [],
   "source": [
    "driver.get('https://data.public.lu/fr/datasets/qualite-air-reseau-telemetrique/')"
   ]
  },
  {
   "cell_type": "code",
   "execution_count": 87,
   "id": "47a1c7bc",
   "metadata": {},
   "outputs": [],
   "source": [
    "driver.find_elements(By.CSS_SELECTOR, \".fr-pagination__link.fr-pagination__link--last\")[0].click()\n",
    "\n"
   ]
  },
  {
   "cell_type": "code",
   "execution_count": 88,
   "id": "4da8f126",
   "metadata": {},
   "outputs": [],
   "source": [
    "rez = []\n",
    "def extract_links(l):\n",
    "    for i in l:\n",
    "        rez.append(i.get_attribute('href'))"
   ]
  },
  {
   "cell_type": "code",
   "execution_count": 89,
   "id": "88c21392",
   "metadata": {},
   "outputs": [],
   "source": [
    "links = driver.find_elements(By.CSS_SELECTOR, \".fr-btn.fr-btn--sm.fr-icon-download-line\")"
   ]
  },
  {
   "cell_type": "code",
   "execution_count": 90,
   "id": "362c5d3c",
   "metadata": {},
   "outputs": [],
   "source": [
    "extract_links(links)"
   ]
  },
  {
   "cell_type": "code",
   "execution_count": 91,
   "id": "d1575f3a",
   "metadata": {},
   "outputs": [],
   "source": [
    "while int(driver.find_elements(By.XPATH, \"//*[@aria-current='page']\")[2].text) != 1:\n",
    "    driver.find_elements(By.CSS_SELECTOR, \".fr-pagination__link.fr-pagination__link--prev.fr-pagination__link--lg-label\")[0].click()\n",
    "    time.sleep(2)\n",
    "    links = driver.find_elements(By.CSS_SELECTOR, \".fr-btn.fr-btn--sm.fr-icon-download-line\")\n",
    "    extract_links(links)"
   ]
  },
  {
   "cell_type": "code",
   "execution_count": 273,
   "id": "341b2c04",
   "metadata": {},
   "outputs": [],
   "source": [
    "data = []"
   ]
  },
  {
   "cell_type": "code",
   "execution_count": 274,
   "id": "4e100670",
   "metadata": {},
   "outputs": [],
   "source": [
    "def extract_data_from_json(json_data):\n",
    "    station_columns = ['adr_num_street', 'date', 'code', 'hour', 'adr_street', 'adr_city', 'luref_y', 'luref_x']\n",
    "    for i in range(len(json_data)):\n",
    "        station = json_data[i][\"station\"]\n",
    "        for s in range(len(station)):\n",
    "            o = station[s]\n",
    "            if set(station_columns).issubset(set(pd.json_normalize(o).columns.to_list())):\n",
    "                station_data = pd.json_normalize(o).iloc[0][station_columns]\n",
    "                measurements = pd.json_normalize(o['data'])\n",
    "                for m in range(len(measurements)):\n",
    "                    #data.append()\n",
    "                    data.append(pd.concat([station_data, measurements.iloc[m]]))\n",
    "\n",
    "            "
   ]
  },
  {
   "cell_type": "code",
   "execution_count": 275,
   "id": "86d342ad",
   "metadata": {},
   "outputs": [],
   "source": [
    "for i in range(len(rez)):\n",
    "    response = requests.get(rez[i])\n",
    "    \n",
    "    if response.status_code == 200:\n",
    "        json_data = response.json()\n",
    "        extract_data_from_json(json_data)\n",
    "    else:\n",
    "        print(\"Failed to retrieve JSON data. Status code:\", response.status_code)"
   ]
  },
  {
   "cell_type": "code",
   "execution_count": 276,
   "id": "97dc88a4",
   "metadata": {},
   "outputs": [],
   "source": [
    "data = pd.DataFrame(data, columns=['adr_num_street', 'date', 'code', 'hour', 'adr_street', 'adr_city',\n",
    "       'luref_y', 'luref_x', 'indexRaw', 'polLabel', 'index', 'value']).reset_index()"
   ]
  },
  {
   "cell_type": "code",
   "execution_count": 281,
   "id": "d83ca985",
   "metadata": {},
   "outputs": [],
   "source": [
    "data = data.drop('level_0', axis=1)"
   ]
  },
  {
   "cell_type": "code",
   "execution_count": 284,
   "id": "47881015",
   "metadata": {},
   "outputs": [],
   "source": [
    "data.to_csv('air.denormalized.csv', index=False)"
   ]
  },
  {
   "cell_type": "code",
   "execution_count": null,
   "id": "075b9546",
   "metadata": {},
   "outputs": [],
   "source": []
  }
 ],
 "metadata": {
  "kernelspec": {
   "display_name": "Python 3 (ipykernel)",
   "language": "python",
   "name": "python3"
  },
  "language_info": {
   "codemirror_mode": {
    "name": "ipython",
    "version": 3
   },
   "file_extension": ".py",
   "mimetype": "text/x-python",
   "name": "python",
   "nbconvert_exporter": "python",
   "pygments_lexer": "ipython3",
   "version": "3.9.16"
  }
 },
 "nbformat": 4,
 "nbformat_minor": 5
}
